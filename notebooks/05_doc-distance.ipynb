{
 "cells": [
  {
   "cell_type": "code",
   "execution_count": 1,
   "metadata": {},
   "outputs": [],
   "source": [
    "#setup\n",
    "import warnings; warnings.simplefilter('ignore')\n",
    "%matplotlib notebook\n",
    "import pandas as pd\n",
    "df1 = pd.read_csv('death-penalty-cases.csv')\n",
    "X = pd.read_pickle('X.pkl')\n",
    "X_tfidf = pd.read_pickle('X_tfidf.pkl')"
   ]
  },
  {
   "cell_type": "code",
   "execution_count": 2,
   "metadata": {},
   "outputs": [
    {
     "data": {
      "text/plain": [
       "(100, 100)"
      ]
     },
     "execution_count": 2,
     "metadata": {},
     "output_type": "execute_result"
    }
   ],
   "source": [
    "###\n",
    "# Cosine Similarity\n",
    "###\n",
    "\n",
    "# compute pair-wise similarities between all documents in corpus\"\n",
    "from sklearn.metrics.pairwise import cosine_similarity\n",
    "\n",
    "sim = cosine_similarity(X[:100])\n",
    "sim.shape"
   ]
  },
  {
   "cell_type": "code",
   "execution_count": 3,
   "metadata": {},
   "outputs": [
    {
     "data": {
      "text/plain": [
       "array([[1.        , 0.01478857, 0.04445799],\n",
       "       [0.01478857, 1.        , 0.1641079 ],\n",
       "       [0.04445799, 0.1641079 , 1.        ]])"
      ]
     },
     "execution_count": 3,
     "metadata": {},
     "output_type": "execute_result"
    }
   ],
   "source": [
    "# TF-IDF Similarity\n",
    "tsim = cosine_similarity(X_tfidf[:100])\n",
    "tsim[:3,:3]"
   ]
  },
  {
   "cell_type": "code",
   "execution_count": 5,
   "metadata": {},
   "outputs": [
    {
     "data": {
      "text/plain": [
       "0.2977188872937294"
      ]
     },
     "execution_count": 5,
     "metadata": {},
     "output_type": "execute_result"
    }
   ],
   "source": [
    "# Jensen-Shannon Divergence\n",
    "from scipy.stats import entropy\n",
    "def js(p, q):\n",
    "    p /= p.sum()\n",
    "    q /= q.sum()\n",
    "    m = (p + q) / 2\n",
    "    return (entropy(p, m) + entropy(q, m)) / 2\n",
    "js(tsim[0],tsim[1])"
   ]
  },
  {
   "cell_type": "code",
   "execution_count": 6,
   "metadata": {},
   "outputs": [
    {
     "data": {
      "text/plain": [
       "123    Appellant asserts that the beliefs regarding t...\n",
       "147    candidates for the death penalty results in ar...\n",
       "158    shows that Vines is a good State&# ;s juror on...\n",
       "163    atrocious to justify the death penalty and is ...\n",
       "228    the same questions on her death penalty views ...\n",
       "237    fix the death penalty,&quot; or whether they &...\n",
       "277    of acceptance of and had a problem with the de...\n",
       "323    consider the death penalty, are you? You can i...\n",
       "415    she was opposed to the death penalty and that ...\n",
       "522    infliction of the death penalty by electrocuti...\n",
       "540    the first degree, the verdicts carrying the de...\n",
       "550    guilty of murder in the first degree and the d...\n",
       "628    on their bias against the imposition of the de...\n",
       "638    which it specified the crime as calling for th...\n",
       "648    case warrant the death penalty, not a contenti...\n",
       "746    Atty. John W. Sause, Jr. said he will ask the ...\n",
       "756    opinions that would preclude their voting for ...\n",
       "764    Article  . (b); and the validity of the Texas ...\n",
       "861    murder. V.T.C.A. Penal Code, §  . (a)( ). The ...\n",
       "862    counsel and Larsen:\\n&quot;Q. Concerning the d...\n",
       "868    if he would confess, he would not suffer the d...\n",
       "927    dire as to their state of mind respecting the ...\n",
       "933    to impose the death penalty only if you find i...\n",
       "979    against the death penalty and at one point in ...\n",
       "Name: snippet, dtype: object"
      ]
     },
     "execution_count": 6,
     "metadata": {},
     "output_type": "execute_result"
    }
   ],
   "source": [
    "###\n",
    "# K-means clustering\n",
    "###\n",
    "\n",
    "# create 100 clusters of similar documents\n",
    "from sklearn.cluster import KMeans\n",
    "num_clusters = 100\n",
    "km = KMeans(n_clusters=num_clusters,n_jobs=-1)\n",
    "km.fit(X_tfidf[:1000])\n",
    "doc_clusters = km.labels_.tolist()\n",
    "dfs = df1[:1000]\n",
    "dfs['cluster'] = doc_clusters\n",
    "dfs[dfs['cluster']==1]['snippet']"
   ]
  },
  {
   "cell_type": "code",
   "execution_count": null,
   "metadata": {},
   "outputs": [],
   "source": []
  }
 ],
 "metadata": {
  "kernelspec": {
   "display_name": "Python 3",
   "language": "python",
   "name": "python3"
  },
  "language_info": {
   "codemirror_mode": {
    "name": "ipython",
    "version": 3
   },
   "file_extension": ".py",
   "mimetype": "text/x-python",
   "name": "python",
   "nbconvert_exporter": "python",
   "pygments_lexer": "ipython3",
   "version": "3.6.8"
  }
 },
 "nbformat": 4,
 "nbformat_minor": 2
}
